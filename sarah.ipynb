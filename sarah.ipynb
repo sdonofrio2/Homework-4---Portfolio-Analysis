{
 "cells": [
  {
   "cell_type": "code",
   "execution_count": 1,
   "id": "a8ad0655-4aff-40f3-bcd9-4dbd9aed4e13",
   "metadata": {
    "tags": []
   },
   "outputs": [],
   "source": [
    "# Initial imports\n",
    "import pandas as pd\n",
    "import numpy as np\n",
    "import datetime as dt\n",
    "from pathlib import Path\n",
    "\n",
    "%matplotlib inline"
   ]
  },
  {
   "cell_type": "code",
   "execution_count": 4,
   "id": "1737ed47-aad3-44b4-98fd-78af4288b36d",
   "metadata": {},
   "outputs": [],
   "source": [
    "#Read in CSVs\n",
    "csv_path_aapl = Path(\"Resources/aapl_historical.csv\")\n",
    "csv_path_algo = Path(\"Resources/algo_returns.csv\") \n",
    "csv_path_cost = Path(\"Resources/cost_historical.csv\") \n",
    "csv_path_goog = Path(\"Resources/goog_historical.csv\") \n",
    "csv_path_sp500 = Path(\"Resources/sp500_history.csv\") \n",
    "csv_path_whale = Path(\"Resources/whale_returns.csv\") \n",
    "aapl_df = pd.read_csv(csv_path_aapl)\n",
    "algo_df = pd.read_csv(csv_path_algo)\n",
    "cost_df = pd.read_csv(csv_path_cost)\n",
    "goog_df = pd.read_csv(csv_path_goog)\n",
    "sp500_df = pd.read_csv(csv_path_sp500)\n",
    "whale_df = pd.read_csv(csv_path_whale)\n"
   ]
  },
  {
   "cell_type": "code",
   "execution_count": null,
   "id": "e9f6dcb1-5c04-4249-a5ec-3c882ea9bb87",
   "metadata": {},
   "outputs": [],
   "source": []
  },
  {
   "cell_type": "code",
   "execution_count": null,
   "id": "b41895b8-19d6-4f76-984a-38db326f8b92",
   "metadata": {},
   "outputs": [],
   "source": []
  }
 ],
 "metadata": {
  "kernelspec": {
   "display_name": "Python 3 (ipykernel)",
   "language": "python",
   "name": "python3"
  },
  "language_info": {
   "codemirror_mode": {
    "name": "ipython",
    "version": 3
   },
   "file_extension": ".py",
   "mimetype": "text/x-python",
   "name": "python",
   "nbconvert_exporter": "python",
   "pygments_lexer": "ipython3",
   "version": "3.8.8"
  }
 },
 "nbformat": 4,
 "nbformat_minor": 5
}
